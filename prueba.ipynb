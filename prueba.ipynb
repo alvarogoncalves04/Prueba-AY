{
 "cells": [
  {
   "cell_type": "markdown",
   "id": "cd520743",
   "metadata": {},
   "source": [
    "Markdown de prueba "
   ]
  }
 ],
 "metadata": {
  "language_info": {
   "name": "python"
  }
 },
 "nbformat": 4,
 "nbformat_minor": 5
}
