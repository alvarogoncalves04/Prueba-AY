{
 "cells": [
  {
   "cell_type": "code",
   "execution_count": 12,
   "id": "808fde82",
   "metadata": {},
   "outputs": [],
   "source": [
    "import pandas as pd\n",
    "import numpy as np"
   ]
  },
  {
   "cell_type": "code",
   "execution_count": 13,
   "id": "730c8da1",
   "metadata": {},
   "outputs": [
    {
     "data": {
      "application/vnd.microsoft.datawrangler.viewer.v0+json": {
       "columns": [
        {
         "name": "index",
         "rawType": "int64",
         "type": "integer"
        },
        {
         "name": "Rk,Name,Age,Tm,Lg,W,L,W-L%,ERA,G,GS,GF,CG,SHO,SV,IP,H,R,ER,HR,BB,IBB,SO,HBP,BK,WP,BF,ERA+,FIP,WHIP,H9,HR9,BB9,SO9,SO/W,Categoria",
         "rawType": "object",
         "type": "string"
        }
       ],
       "ref": "bb2f3bb4-8978-4538-93f6-b75d87cb88de",
       "rows": [
        [
         "0",
         "1,CoryÂ Abbott,26,WSN,NL,0,5,0.0,5.25,16,9,7,0,0,0,48.0,44,30,28,12,25,0,45,5,0,2,216,75,6.36,1.438,8.3,2.3,4.7,8.4,1.8,Joven"
        ],
        [
         "1",
         "2,AlbertÂ Abreu,26,TOT,AL,2,2,0.5,3.26,33,0,11,0,0,0,38.2,35,15,14,5,22,0,38,3,0,6,172,123,4.77,1.474,8.1,1.2,5.1,8.8,1.73,Joven"
        ],
        [
         "2",
         "3,AlbertÂ Abreu,26,TEX,AL,0,0,0.0,3.12,7,0,0,0,0,0,8.2,4,3,3,2,12,0,9,1,0,0,42,133,8.54,1.846,4.2,2.1,12.5,9.3,0.75,Joven"
        ],
        [
         "3",
         "4,AlbertÂ Abreu,26,KCR,AL,0,0,0.0,4.15,4,0,3,0,0,0,4.1,6,2,2,1,4,0,3,1,0,1,22,106,8.19,2.308,12.5,2.1,8.3,6.2,0.75,Joven"
        ],
        [
         "4",
         "5,AlbertÂ Abreu,26,NYY,AL,2,2,0.5,3.16,22,0,8,0,0,0,25.2,25,10,9,2,6,0,26,1,0,5,108,124,2.92,1.208,8.8,0.7,2.1,9.1,4.33,Joven"
        ],
        [
         "5",
         "6,BryanÂ Abreu,25,HOU,AL,4,0,1.0,1.94,55,0,18,0,0,2,60.1,45,16,13,2,26,0,88,4,0,7,248,198,2.12,1.177,6.7,0.3,3.9,13.1,3.38,Joven"
        ],
        [
         "6",
         "7,DomingoÂ Acevedo,28,OAK,AL,4,4,0.5,3.33,70,0,12,0,0,4,67.2,50,26,25,9,17,4,58,3,1,1,266,113,4.01,0.99,6.7,1.2,2.3,7.7,3.41,Joven"
        ],
        [
         "7",
         "8,JasonÂ Adam,30,TBR,AL,2,3,0.4,1.56,67,0,16,0,0,8,63.1,31,12,11,5,17,2,75,6,0,2,237,238,2.86,0.758,4.4,0.7,2.4,10.7,4.41,Joven"
        ],
        [
         "8",
         "9,AustinÂ Adams,31,SDP,NL,1,0,1.0,0.0,2,0,0,0,0,0,2.1,0,0,0,0,3,0,2,0,0,0,9,0,5.25,1.286,0.0,0.0,11.6,7.7,0.67,Veterano"
        ],
        [
         "9",
         "10,JoanÂ Adon,23,WSN,NL,1,12,0.077,7.1,14,14,0,0,0,0,64.2,76,53,51,8,39,1,55,6,0,7,310,55,5.11,1.778,10.6,1.1,5.4,7.7,1.41,Joven"
        ],
        [
         "10",
         "11,EhireÂ Adrianza,32,TOT,NL,0,0,0.0,0.0,1,0,1,0,0,0,1.0,0,0,0,0,1,0,1,0,0,0,4,0,4.11,1.0,0.0,0.0,9.0,9.0,1.0,Veterano"
        ],
        [
         "11",
         "12,EhireÂ Adrianza,32,WSN,NL,0,0,0.0,0.0,1,0,1,0,0,0,1.0,0,0,0,0,1,0,1,0,0,0,4,0,4.11,1.0,0.0,0.0,9.0,9.0,1.0,Veterano"
        ],
        [
         "12",
         "13,KeeganÂ Akin*,27,BAL,AL,3,3,0.5,3.2,45,1,10,0,0,2,81.2,69,35,29,10,20,0,77,1,0,1,329,122,3.59,1.09,7.6,1.1,2.2,8.5,3.85,Joven"
        ],
        [
         "13",
         "14,HanserÂ Alberto,29,LAD,NL,0,0,0.0,4.09,10,0,10,0,0,0,11.0,10,5,5,2,3,0,1,1,0,0,47,102,6.38,1.182,8.2,1.6,2.5,0.8,0.33,Joven"
        ],
        [
         "14",
         "15,JorgeÂ Alcala,26,MIN,AL,0,0,0.0,0.0,2,0,0,0,0,0,2.1,2,0,0,0,2,0,2,0,0,0,10,0,3.97,1.714,7.7,0.0,7.7,7.7,1.0,Joven"
        ],
        [
         "15",
         "16,SandyÂ Alcantara,26,MIA,NL,14,9,0.609,2.28,32,32,0,6,1,0,228.2,174,67,58,16,50,1,207,9,0,3,886,176,2.99,0.98,6.8,0.6,2.0,8.1,4.14,Joven"
        ],
        [
         "16",
         "17,JasonÂ Alexander,29,MIL,NL,2,3,0.4,5.4,18,11,3,0,0,0,71.2,88,47,43,12,28,0,46,4,0,1,321,75,5.34,1.619,11.1,1.5,3.5,5.8,1.64,Joven"
        ],
        [
         "17",
         "18,ScottÂ Alexander*,32,SFG,NL,0,0,0.0,1.04,17,4,3,0,0,2,17.1,12,2,2,1,1,0,10,0,0,0,63,391,2.88,0.75,6.2,0.5,0.5,5.2,10.0,Veterano"
        ],
        [
         "18",
         "19,TylerÂ Alexander*,27,DET,AL,4,11,0.267,4.81,27,17,1,0,0,0,101.0,108,58,54,18,25,1,61,1,0,0,427,80,4.99,1.317,9.6,1.6,2.2,5.4,2.44,Joven"
        ],
        [
         "19",
         "20,A.J.Â Alexy,24,TEX,AL,1,1,0.5,11.57,4,0,0,0,0,0,7.0,10,9,9,1,9,0,6,0,0,1,38,36,7.11,2.714,12.9,1.3,11.6,7.7,0.67,Joven"
        ],
        [
         "20",
         "21,KolbyÂ Allard*,24,TEX,AL,1,2,0.333,7.29,10,0,4,0,0,1,21.0,21,17,17,9,6,1,19,1,0,0,87,55,7.87,1.286,9.0,3.9,2.6,8.1,3.17,Joven"
        ],
        [
         "21",
         "22,CamÂ Alldred*,25,PIT,NL,0,0,0.0,0.0,1,0,0,0,0,0,1.0,1,0,0,0,0,0,1,0,0,0,4,0,1.11,1.0,9.0,0.0,0.0,9.0,0.0,Joven"
        ],
        [
         "22",
         "23,LoganÂ Allen*,25,TOT,AL,1,0,1.0,5.87,7,0,0,0,0,0,7.2,12,5,5,0,5,0,7,1,0,0,40,72,3.63,2.217,14.1,0.0,5.9,8.2,1.4,Joven"
        ],
        [
         "23",
         "24,LoganÂ Allen*,25,CLE,AL,1,0,1.0,4.5,4,0,0,0,0,0,6.0,9,3,3,0,3,0,6,1,0,0,30,90,3.11,2.0,13.5,0.0,4.5,9.0,2.0,Joven"
        ],
        [
         "24",
         "25,LoganÂ Allen*,25,BAL,AL,0,0,0.0,10.8,3,0,0,0,0,0,1.2,3,2,2,0,2,0,1,0,0,0,10,44,5.51,3.0,16.2,0.0,10.8,5.4,0.5,Joven"
        ],
        [
         "25",
         "26,YencyÂ Almonte,28,LAD,NL,0,0,0.0,1.02,33,0,3,0,0,1,35.1,18,4,4,2,10,1,33,4,0,0,135,402,3.17,0.792,4.6,0.5,2.5,8.4,3.3,Joven"
        ],
        [
         "26",
         "27,JosÃ©Â Alvarado*,27,PHI,NL,4,2,0.667,3.18,59,0,8,0,0,2,51.0,38,21,18,2,24,4,81,1,0,5,214,127,1.92,1.216,6.7,0.4,4.2,14.3,3.38,Joven"
        ],
        [
         "27",
         "28,JoseÂ Alvarez*,33,SFG,NL,2,1,0.667,5.28,21,0,6,0,0,1,15.1,17,10,9,3,9,1,15,2,0,1,76,77,5.85,1.696,10.0,1.8,5.3,8.8,1.67,Veterano"
        ],
        [
         "28",
         "29,R.J.Â Alvarez,31,NYM,NL,0,1,0.0,11.57,1,0,0,0,0,0,2.1,4,3,3,2,3,0,2,0,0,0,13,39,16.4,3.0,15.4,7.7,11.6,7.7,0.67,Veterano"
        ],
        [
         "29",
         "30,AdbertÂ Alzolay,27,CHC,NL,2,1,0.667,3.38,6,0,1,0,0,0,13.1,9,5,5,1,2,0,19,1,0,0,52,125,1.91,0.825,6.1,0.7,1.4,12.8,9.5,Joven"
        ],
        [
         "30",
         "31,ChaseÂ Anderson,34,CIN,NL,2,4,0.333,6.38,9,7,1,0,0,0,24.0,17,18,17,3,15,0,23,3,0,0,103,71,5.07,1.333,6.4,1.1,5.6,8.6,1.53,Veterano"
        ],
        [
         "31",
         "32,IanÂ Anderson,24,ATL,NL,10,6,0.625,5.0,22,22,0,0,0,0,111.2,115,63,62,12,54,0,97,1,0,4,493,83,4.25,1.513,9.3,1.0,4.4,7.8,1.8,Joven"
        ],
        [
         "32",
         "33,ShaunÂ Anderson,27,TOR,AL,0,0,0.0,18.0,1,0,1,0,0,0,1.0,4,2,2,0,0,0,0,0,0,0,7,30,3.11,4.0,36.0,0.0,0.0,0.0,0.0,Joven"
        ],
        [
         "33",
         "34,TylerÂ Anderson*,32,LAD,NL,15,5,0.75,2.57,30,28,0,0,0,0,178.2,145,57,51,14,34,0,138,9,0,6,707,158,3.31,1.002,7.3,0.7,1.7,7.0,4.06,Veterano"
        ],
        [
         "34",
         "35,MarkÂ Appel,30,PHI,NL,0,0,0.0,1.74,6,0,3,0,0,0,10.1,9,2,2,0,3,0,5,0,0,0,40,239,3.02,1.161,7.8,0.0,2.6,4.4,1.67,Joven"
        ],
        [
         "35",
         "36,VÃ­ctorÂ Arano,27,WSN,NL,1,1,0.5,4.5,43,0,7,0,0,1,42.0,47,30,21,5,12,0,44,4,0,6,187,87,3.71,1.405,10.1,1.1,2.6,9.4,3.67,Joven"
        ],
        [
         "36",
         "37,ChrisÂ Archer,33,MIN,AL,2,8,0.2,4.56,25,25,0,0,0,0,102.2,87,56,52,12,48,0,84,3,0,3,437,86,4.49,1.315,7.6,1.1,4.2,7.4,1.75,Veterano"
        ],
        [
         "37",
         "38,OrlandoÂ Arcia,27,ATL,NL,0,0,0.0,0.0,1,0,1,0,0,0,1.0,0,0,0,0,1,0,0,0,0,0,4,0,6.11,1.0,0.0,0.0,9.0,0.0,0.0,Joven"
        ],
        [
         "38",
         "39,KoheiÂ Arihara,29,TEX,AL,1,3,0.25,9.45,5,4,0,0,0,0,20.0,36,22,21,4,11,0,14,3,0,0,108,43,6.41,2.35,16.2,1.8,5.0,6.3,1.27,Joven"
        ],
        [
         "39",
         "40,ShawnÂ Armstrong,31,TOT,MLB,2,3,0.4,4.38,50,3,19,0,0,2,61.2,66,32,30,7,17,2,66,4,0,3,269,86,3.47,1.346,9.6,1.0,2.5,9.6,3.88,Veterano"
        ],
        [
         "40",
         "41,ShawnÂ Armstrong,31,MIA,NL,0,0,0.0,10.8,7,0,1,0,0,0,6.2,10,10,8,1,3,0,5,0,0,1,34,39,4.91,1.95,13.5,1.4,4.1,6.8,1.67,Veterano"
        ],
        [
         "41",
         "42,ShawnÂ Armstrong,31,TBR,AL,2,3,0.4,3.6,43,3,18,0,0,2,55.0,56,22,22,6,14,2,61,4,0,2,235,103,3.29,1.273,9.2,1.0,2.3,10.0,4.36,Veterano"
        ],
        [
         "42",
         "43,AaronÂ Ashby*,24,MIL,NL,2,10,0.167,4.44,27,19,2,0,0,1,107.1,106,62,53,15,47,0,126,6,1,7,475,91,4.06,1.425,8.9,1.3,3.9,10.6,2.68,Joven"
        ],
        [
         "43",
         "44,GrahamÂ Ashcraft,24,CIN,NL,5,6,0.455,4.89,19,19,0,0,0,0,105.0,119,61,57,11,30,1,71,8,0,9,464,92,4.21,1.419,10.2,0.9,2.6,6.1,2.37,Joven"
        ],
        [
         "44",
         "45,JavierÂ Assad,24,CHC,NL,2,2,0.5,3.11,9,8,0,0,0,0,37.2,35,14,13,4,20,0,30,0,0,1,166,133,4.49,1.46,8.4,1.0,4.8,7.2,1.5,Joven"
        ],
        [
         "45",
         "46,WilliansÂ Astudillo,30,MIA,NL,0,0,0.0,0.0,2,0,2,0,0,0,2.0,0,0,0,0,2,0,0,0,0,0,7,0,6.11,1.0,0.0,0.0,9.0,0.0,0.0,Joven"
        ],
        [
         "46",
         "47,PedroÂ Avila,25,SDP,NL,0,0,0.0,4.5,2,0,1,0,0,0,4.0,3,3,2,1,1,0,5,1,0,1,18,92,5.36,1.0,6.8,2.3,2.3,11.3,5.0,Joven"
        ],
        [
         "47",
         "48,MichelÂ BÃ¡ez,26,SDP,NL,0,0,0.0,0.0,2,0,2,0,0,0,2.0,1,0,0,0,0,0,2,0,0,1,7,0,1.11,0.5,4.5,0.0,0.0,9.0,0.0,Joven"
        ],
        [
         "48",
         "49,PedroÂ BÃ¡ez,34,HOU,AL,0,0,0.0,11.57,3,0,1,0,0,0,2.1,5,6,3,0,3,0,2,0,1,0,16,39,5.25,3.429,19.3,0.0,11.6,7.7,0.67,Veterano"
        ],
        [
         "49",
         "50,BryanÂ Baker,27,BAL,AL,4,3,0.571,3.49,66,2,11,0,0,1,69.2,60,29,27,3,26,1,76,3,0,2,291,112,2.74,1.234,7.8,0.4,3.4,9.8,2.92,Joven"
        ]
       ],
       "shape": {
        "columns": 1,
        "rows": 1081
       }
      },
      "text/html": [
       "<div>\n",
       "<style scoped>\n",
       "    .dataframe tbody tr th:only-of-type {\n",
       "        vertical-align: middle;\n",
       "    }\n",
       "\n",
       "    .dataframe tbody tr th {\n",
       "        vertical-align: top;\n",
       "    }\n",
       "\n",
       "    .dataframe thead th {\n",
       "        text-align: right;\n",
       "    }\n",
       "</style>\n",
       "<table border=\"1\" class=\"dataframe\">\n",
       "  <thead>\n",
       "    <tr style=\"text-align: right;\">\n",
       "      <th></th>\n",
       "      <th>Rk,Name,Age,Tm,Lg,W,L,W-L%,ERA,G,GS,GF,CG,SHO,SV,IP,H,R,ER,HR,BB,IBB,SO,HBP,BK,WP,BF,ERA+,FIP,WHIP,H9,HR9,BB9,SO9,SO/W,Categoria</th>\n",
       "    </tr>\n",
       "  </thead>\n",
       "  <tbody>\n",
       "    <tr>\n",
       "      <th>0</th>\n",
       "      <td>1,CoryÂ Abbott,26,WSN,NL,0,5,0.0,5.25,16,9,7,0...</td>\n",
       "    </tr>\n",
       "    <tr>\n",
       "      <th>1</th>\n",
       "      <td>2,AlbertÂ Abreu,26,TOT,AL,2,2,0.5,3.26,33,0,11...</td>\n",
       "    </tr>\n",
       "    <tr>\n",
       "      <th>2</th>\n",
       "      <td>3,AlbertÂ Abreu,26,TEX,AL,0,0,0.0,3.12,7,0,0,0...</td>\n",
       "    </tr>\n",
       "    <tr>\n",
       "      <th>3</th>\n",
       "      <td>4,AlbertÂ Abreu,26,KCR,AL,0,0,0.0,4.15,4,0,3,0...</td>\n",
       "    </tr>\n",
       "    <tr>\n",
       "      <th>4</th>\n",
       "      <td>5,AlbertÂ Abreu,26,NYY,AL,2,2,0.5,3.16,22,0,8,...</td>\n",
       "    </tr>\n",
       "    <tr>\n",
       "      <th>...</th>\n",
       "      <td>...</td>\n",
       "    </tr>\n",
       "    <tr>\n",
       "      <th>1076</th>\n",
       "      <td>1077,RobÂ Zastryzny*,30,NYM,NL,0,0,0.0,9.0,1,0...</td>\n",
       "    </tr>\n",
       "    <tr>\n",
       "      <th>1077</th>\n",
       "      <td>1078,RobÂ Zastryzny*,30,LAA,AL,0,0,0.0,6.0,5,0...</td>\n",
       "    </tr>\n",
       "    <tr>\n",
       "      <th>1078</th>\n",
       "      <td>1079,AngelÂ Zerpa*,22,KCR,AL,2,1,0.667,1.64,3,...</td>\n",
       "    </tr>\n",
       "    <tr>\n",
       "      <th>1079</th>\n",
       "      <td>1080,T.J.Â Zeuch,26,CIN,NL,0,3,0.0,15.19,3,3,0...</td>\n",
       "    </tr>\n",
       "    <tr>\n",
       "      <th>1080</th>\n",
       "      <td>1081,BruceÂ Zimmermann*,27,BAL,AL,2,5,0.286,5....</td>\n",
       "    </tr>\n",
       "  </tbody>\n",
       "</table>\n",
       "<p>1081 rows × 1 columns</p>\n",
       "</div>"
      ],
      "text/plain": [
       "     Rk,Name,Age,Tm,Lg,W,L,W-L%,ERA,G,GS,GF,CG,SHO,SV,IP,H,R,ER,HR,BB,IBB,SO,HBP,BK,WP,BF,ERA+,FIP,WHIP,H9,HR9,BB9,SO9,SO/W,Categoria\n",
       "0     1,CoryÂ Abbott,26,WSN,NL,0,5,0.0,5.25,16,9,7,0...                                                                              \n",
       "1     2,AlbertÂ Abreu,26,TOT,AL,2,2,0.5,3.26,33,0,11...                                                                              \n",
       "2     3,AlbertÂ Abreu,26,TEX,AL,0,0,0.0,3.12,7,0,0,0...                                                                              \n",
       "3     4,AlbertÂ Abreu,26,KCR,AL,0,0,0.0,4.15,4,0,3,0...                                                                              \n",
       "4     5,AlbertÂ Abreu,26,NYY,AL,2,2,0.5,3.16,22,0,8,...                                                                              \n",
       "...                                                 ...                                                                              \n",
       "1076  1077,RobÂ Zastryzny*,30,NYM,NL,0,0,0.0,9.0,1,0...                                                                              \n",
       "1077  1078,RobÂ Zastryzny*,30,LAA,AL,0,0,0.0,6.0,5,0...                                                                              \n",
       "1078  1079,AngelÂ Zerpa*,22,KCR,AL,2,1,0.667,1.64,3,...                                                                              \n",
       "1079  1080,T.J.Â Zeuch,26,CIN,NL,0,3,0.0,15.19,3,3,0...                                                                              \n",
       "1080  1081,BruceÂ Zimmermann*,27,BAL,AL,2,5,0.286,5....                                                                              \n",
       "\n",
       "[1081 rows x 1 columns]"
      ]
     },
     "execution_count": 13,
     "metadata": {},
     "output_type": "execute_result"
    }
   ],
   "source": [
    "df = pd.read_csv('pitcheo.csv', encoding = 'latin-1', sep = ';')\n",
    "\n",
    "df"
   ]
  },
  {
   "cell_type": "markdown",
   "id": "a48db0ab",
   "metadata": {},
   "source": [
    "# Prueba de como hacer codigos\n",
    "este espacio es para el ensayo y error "
   ]
  },
  {
   "cell_type": "markdown",
   "id": "96ae5a5f",
   "metadata": {},
   "source": [
    "prueba para ver si es joven o veterano el jugador "
   ]
  },
  {
   "cell_type": "code",
   "execution_count": 14,
   "id": "aeb453be",
   "metadata": {},
   "outputs": [
    {
     "name": "stdout",
     "output_type": "stream",
     "text": [
      "El jugador es joven\n"
     ]
    }
   ],
   "source": [
    "edad = 30\n",
    "if edad > 30:\n",
    "    print(\"El jugador es veterano\")\n",
    "else:\n",
    "    print(\"El jugador es joven\")\n",
    "edad = 29\n"
   ]
  },
  {
   "cell_type": "code",
   "execution_count": 15,
   "id": "984d3808",
   "metadata": {},
   "outputs": [
    {
     "ename": "KeyError",
     "evalue": "'Age'",
     "output_type": "error",
     "traceback": [
      "\u001b[31m---------------------------------------------------------------------------\u001b[39m",
      "\u001b[31mKeyError\u001b[39m                                  Traceback (most recent call last)",
      "\u001b[36mFile \u001b[39m\u001b[32m~/.local/lib/python3.12/site-packages/pandas/core/indexes/base.py:3812\u001b[39m, in \u001b[36mIndex.get_loc\u001b[39m\u001b[34m(self, key)\u001b[39m\n\u001b[32m   3811\u001b[39m \u001b[38;5;28;01mtry\u001b[39;00m:\n\u001b[32m-> \u001b[39m\u001b[32m3812\u001b[39m     \u001b[38;5;28;01mreturn\u001b[39;00m \u001b[38;5;28;43mself\u001b[39;49m\u001b[43m.\u001b[49m\u001b[43m_engine\u001b[49m\u001b[43m.\u001b[49m\u001b[43mget_loc\u001b[49m\u001b[43m(\u001b[49m\u001b[43mcasted_key\u001b[49m\u001b[43m)\u001b[49m\n\u001b[32m   3813\u001b[39m \u001b[38;5;28;01mexcept\u001b[39;00m \u001b[38;5;167;01mKeyError\u001b[39;00m \u001b[38;5;28;01mas\u001b[39;00m err:\n",
      "\u001b[36mFile \u001b[39m\u001b[32mpandas/_libs/index.pyx:167\u001b[39m, in \u001b[36mpandas._libs.index.IndexEngine.get_loc\u001b[39m\u001b[34m()\u001b[39m\n",
      "\u001b[36mFile \u001b[39m\u001b[32mpandas/_libs/index.pyx:196\u001b[39m, in \u001b[36mpandas._libs.index.IndexEngine.get_loc\u001b[39m\u001b[34m()\u001b[39m\n",
      "\u001b[36mFile \u001b[39m\u001b[32mpandas/_libs/hashtable_class_helper.pxi:7088\u001b[39m, in \u001b[36mpandas._libs.hashtable.PyObjectHashTable.get_item\u001b[39m\u001b[34m()\u001b[39m\n",
      "\u001b[36mFile \u001b[39m\u001b[32mpandas/_libs/hashtable_class_helper.pxi:7096\u001b[39m, in \u001b[36mpandas._libs.hashtable.PyObjectHashTable.get_item\u001b[39m\u001b[34m()\u001b[39m\n",
      "\u001b[31mKeyError\u001b[39m: 'Age'",
      "\nThe above exception was the direct cause of the following exception:\n",
      "\u001b[31mKeyError\u001b[39m                                  Traceback (most recent call last)",
      "\u001b[36mCell\u001b[39m\u001b[36m \u001b[39m\u001b[32mIn[15]\u001b[39m\u001b[32m, line 1\u001b[39m\n\u001b[32m----> \u001b[39m\u001b[32m1\u001b[39m df[\u001b[33m'\u001b[39m\u001b[33mCategoria\u001b[39m\u001b[33m'\u001b[39m] = \u001b[43mdf\u001b[49m\u001b[43m[\u001b[49m\u001b[33;43m'\u001b[39;49m\u001b[33;43mAge\u001b[39;49m\u001b[33;43m'\u001b[39;49m\u001b[43m]\u001b[49m.apply(\u001b[38;5;28;01mlambda\u001b[39;00m x: \u001b[33m'\u001b[39m\u001b[33mVeterano\u001b[39m\u001b[33m'\u001b[39m \u001b[38;5;28;01mif\u001b[39;00m x > \u001b[32m30\u001b[39m \u001b[38;5;28;01melse\u001b[39;00m \u001b[33m'\u001b[39m\u001b[33mJoven\u001b[39m\u001b[33m'\u001b[39m)\n\u001b[32m      2\u001b[39m df.to_csv(\u001b[33m'\u001b[39m\u001b[33mpitcheo.csv\u001b[39m\u001b[33m'\u001b[39m, index=\u001b[38;5;28;01mFalse\u001b[39;00m)\n",
      "\u001b[36mFile \u001b[39m\u001b[32m~/.local/lib/python3.12/site-packages/pandas/core/frame.py:4107\u001b[39m, in \u001b[36mDataFrame.__getitem__\u001b[39m\u001b[34m(self, key)\u001b[39m\n\u001b[32m   4105\u001b[39m \u001b[38;5;28;01mif\u001b[39;00m \u001b[38;5;28mself\u001b[39m.columns.nlevels > \u001b[32m1\u001b[39m:\n\u001b[32m   4106\u001b[39m     \u001b[38;5;28;01mreturn\u001b[39;00m \u001b[38;5;28mself\u001b[39m._getitem_multilevel(key)\n\u001b[32m-> \u001b[39m\u001b[32m4107\u001b[39m indexer = \u001b[38;5;28;43mself\u001b[39;49m\u001b[43m.\u001b[49m\u001b[43mcolumns\u001b[49m\u001b[43m.\u001b[49m\u001b[43mget_loc\u001b[49m\u001b[43m(\u001b[49m\u001b[43mkey\u001b[49m\u001b[43m)\u001b[49m\n\u001b[32m   4108\u001b[39m \u001b[38;5;28;01mif\u001b[39;00m is_integer(indexer):\n\u001b[32m   4109\u001b[39m     indexer = [indexer]\n",
      "\u001b[36mFile \u001b[39m\u001b[32m~/.local/lib/python3.12/site-packages/pandas/core/indexes/base.py:3819\u001b[39m, in \u001b[36mIndex.get_loc\u001b[39m\u001b[34m(self, key)\u001b[39m\n\u001b[32m   3814\u001b[39m     \u001b[38;5;28;01mif\u001b[39;00m \u001b[38;5;28misinstance\u001b[39m(casted_key, \u001b[38;5;28mslice\u001b[39m) \u001b[38;5;129;01mor\u001b[39;00m (\n\u001b[32m   3815\u001b[39m         \u001b[38;5;28misinstance\u001b[39m(casted_key, abc.Iterable)\n\u001b[32m   3816\u001b[39m         \u001b[38;5;129;01mand\u001b[39;00m \u001b[38;5;28many\u001b[39m(\u001b[38;5;28misinstance\u001b[39m(x, \u001b[38;5;28mslice\u001b[39m) \u001b[38;5;28;01mfor\u001b[39;00m x \u001b[38;5;129;01min\u001b[39;00m casted_key)\n\u001b[32m   3817\u001b[39m     ):\n\u001b[32m   3818\u001b[39m         \u001b[38;5;28;01mraise\u001b[39;00m InvalidIndexError(key)\n\u001b[32m-> \u001b[39m\u001b[32m3819\u001b[39m     \u001b[38;5;28;01mraise\u001b[39;00m \u001b[38;5;167;01mKeyError\u001b[39;00m(key) \u001b[38;5;28;01mfrom\u001b[39;00m\u001b[38;5;250m \u001b[39m\u001b[34;01merr\u001b[39;00m\n\u001b[32m   3820\u001b[39m \u001b[38;5;28;01mexcept\u001b[39;00m \u001b[38;5;167;01mTypeError\u001b[39;00m:\n\u001b[32m   3821\u001b[39m     \u001b[38;5;66;03m# If we have a listlike key, _check_indexing_error will raise\u001b[39;00m\n\u001b[32m   3822\u001b[39m     \u001b[38;5;66;03m#  InvalidIndexError. Otherwise we fall through and re-raise\u001b[39;00m\n\u001b[32m   3823\u001b[39m     \u001b[38;5;66;03m#  the TypeError.\u001b[39;00m\n\u001b[32m   3824\u001b[39m     \u001b[38;5;28mself\u001b[39m._check_indexing_error(key)\n",
      "\u001b[31mKeyError\u001b[39m: 'Age'"
     ]
    }
   ],
   "source": [
    "df['Categoria'] = df['Age'].apply(lambda x: 'Veterano' if x > 30 else 'Joven')\n",
    "df.to_csv('pitcheo.csv', index=False)"
   ]
  },
  {
   "cell_type": "markdown",
   "id": "6000ca7a",
   "metadata": {},
   "source": [
    "Indicio de como llamar a columna edad"
   ]
  },
  {
   "cell_type": "code",
   "execution_count": null,
   "id": "5d2606df",
   "metadata": {},
   "outputs": [],
   "source": [
    "# Definimos una función que calcula el promedio de era x inning\n",
    "def calcular_iva(monto_base):\n",
    "    iva = monto_base * 0.16\n",
    "    return iva\n",
    "\n",
    "# Usamos la función\n",
    "precio_producto = 150\n",
    "iva_a_pagar = calcular_iva(precio_producto)\n",
    "print(f\"El IVA para un producto de ${precio_producto} es ${iva_a_pagar}\")\n",
    "# Salida: El IVA para un producto de $150 es $24.0\n"
   ]
  },
  {
   "cell_type": "code",
   "execution_count": 20,
   "id": "c399db18",
   "metadata": {},
   "outputs": [
    {
     "name": "stdout",
     "output_type": "stream",
     "text": [
      "[ 7  8  9 10]\n",
      "[5, 6, 7, 8]\n"
     ]
    }
   ],
   "source": [
    "# Creando un array de NumPy\n",
    "arr_innings = np.array([5, 6, 7, 8])\n",
    "\n",
    "# Operación vectorizada (sin bucle for)\n",
    "arr_innings_con_dos_mas = arr_innings + 2\n",
    "print(arr_innings_con_dos_mas)\n",
    "# Salida: [ 7  8  9 10]\n",
    "\n",
    "print(innings)\n"
   ]
  },
  {
   "cell_type": "code",
   "execution_count": 21,
   "id": "d9d859e6",
   "metadata": {},
   "outputs": [
    {
     "data": {
      "text/plain": [
       "<bound method NDFrame.describe of      Rk,Name,Age,Tm,Lg,W,L,W-L%,ERA,G,GS,GF,CG,SHO,SV,IP,H,R,ER,HR,BB,IBB,SO,HBP,BK,WP,BF,ERA+,FIP,WHIP,H9,HR9,BB9,SO9,SO/W,Categoria\n",
       "0     1,CoryÂ Abbott,26,WSN,NL,0,5,0.0,5.25,16,9,7,0...                                                                              \n",
       "1     2,AlbertÂ Abreu,26,TOT,AL,2,2,0.5,3.26,33,0,11...                                                                              \n",
       "2     3,AlbertÂ Abreu,26,TEX,AL,0,0,0.0,3.12,7,0,0,0...                                                                              \n",
       "3     4,AlbertÂ Abreu,26,KCR,AL,0,0,0.0,4.15,4,0,3,0...                                                                              \n",
       "4     5,AlbertÂ Abreu,26,NYY,AL,2,2,0.5,3.16,22,0,8,...                                                                              \n",
       "...                                                 ...                                                                              \n",
       "1076  1077,RobÂ Zastryzny*,30,NYM,NL,0,0,0.0,9.0,1,0...                                                                              \n",
       "1077  1078,RobÂ Zastryzny*,30,LAA,AL,0,0,0.0,6.0,5,0...                                                                              \n",
       "1078  1079,AngelÂ Zerpa*,22,KCR,AL,2,1,0.667,1.64,3,...                                                                              \n",
       "1079  1080,T.J.Â Zeuch,26,CIN,NL,0,3,0.0,15.19,3,3,0...                                                                              \n",
       "1080  1081,BruceÂ Zimmermann*,27,BAL,AL,2,5,0.286,5....                                                                              \n",
       "\n",
       "[1081 rows x 1 columns]>"
      ]
     },
     "execution_count": 21,
     "metadata": {},
     "output_type": "execute_result"
    }
   ],
   "source": [
    "df.describe"
   ]
  }
 ],
 "metadata": {
  "kernelspec": {
   "display_name": "Python 3",
   "language": "python",
   "name": "python3"
  },
  "language_info": {
   "codemirror_mode": {
    "name": "ipython",
    "version": 3
   },
   "file_extension": ".py",
   "mimetype": "text/x-python",
   "name": "python",
   "nbconvert_exporter": "python",
   "pygments_lexer": "ipython3",
   "version": "3.12.1"
  }
 },
 "nbformat": 4,
 "nbformat_minor": 5
}
